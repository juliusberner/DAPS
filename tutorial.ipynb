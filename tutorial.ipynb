{
 "cells": [
  {
   "cell_type": "markdown",
   "metadata": {},
   "source": [
    "### Define an Inverse Problem"
   ]
  },
  {
   "cell_type": "code",
   "execution_count": null,
   "metadata": {},
   "outputs": [],
   "source": [
    "import torch\n",
    "from forward_operator import Operator, get_operator\n",
    "\n",
    "# DIY a measurement operator:\n",
    "# Create a class that inherits from Operator\n",
    "class MyOperator(Operator):\n",
    "    def __init__(self, sigma=0.05):\n",
    "        '''\n",
    "        sigma: float, measurement noise level\n",
    "        '''\n",
    "        super().__init__(sigma)\n",
    "\n",
    "# 2. Implement the forward method\n",
    "    def __call__(self, x):\n",
    "        '''\n",
    "        x: shape (N,C,H,W), input tensor, range [-1,1]\n",
    "        return: y measurement without noise\n",
    "        '''\n",
    "        y = torch.abs(x)  # simple forward operator\n",
    "        return y\n",
    "    \n",
    "# 3. [Optional] Modify the measurement error function\n",
    "    def error(self, x, y):\n",
    "        '''\n",
    "        x: shape (N,C,H,W), input tensor, range [-1,1]\n",
    "        y: shape (N,C,H,W), measurement tensor\n",
    "        return: measurement error\n",
    "        '''\n",
    "        return ((self(x) - y) ** 2).flatten(1).sum(-1)\n",
    "\n",
    "op = MyOperator()\n",
    "\n",
    "# Or try predefined forward operators\n",
    "# op = get_operator('random_mask', mask='gaussian', sigma=0.05)"
   ]
  },
  {
   "cell_type": "markdown",
   "metadata": {},
   "source": [
    "### Define a DAPS sampler"
   ]
  },
  {
   "cell_type": "code",
   "execution_count": null,
   "metadata": {},
   "outputs": [],
   "source": [
    "from sampler import get_sampler"
   ]
  }
 ],
 "metadata": {
  "language_info": {
   "name": "python"
  }
 },
 "nbformat": 4,
 "nbformat_minor": 2
}
